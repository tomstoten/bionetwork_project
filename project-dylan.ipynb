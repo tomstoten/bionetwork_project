{
 "cells": [
  {
   "cell_type": "code",
   "execution_count": 1,
   "id": "3f734e1c",
   "metadata": {},
   "outputs": [],
   "source": [
    "# network/comp. bio. packages\n",
    "import networkx as nx\n",
    "import cobra\n",
    "from cobra.io import read_sbml_model\n",
    "import netwulf\n",
    "from netwulf import visualize\n",
    "\n",
    "# helper packages\n",
    "import pandas as pd\n",
    "import os\n",
    "import numpy as np\n",
    "import matplotlib.pyplot as plt\n",
    "from collections import Counter\n",
    "import random\n",
    "\n",
    "%matplotlib inline"
   ]
  },
  {
   "cell_type": "code",
   "execution_count": 7,
   "id": "71b57c98",
   "metadata": {},
   "outputs": [],
   "source": [
    "# iterate over model.reactions and model.metabolites to construct bipartite directed network\n",
    "def makeNetworkFromSBML(model):\n",
    "    # directed grah\n",
    "    G = nx.DiGraph()\n",
    "    \n",
    "    # metabolite nodes and reaction nodes\n",
    "    nodes_m = {}\n",
    "    nodes_r = {}\n",
    "\n",
    "    # iterate through metabolites in model and add to nodes_m dict\n",
    "    for metabolite in model.metabolites:\n",
    "        nodes_m[metabolite.id] = metabolite.name\n",
    "        \n",
    "    # iterate through reactions in model and add to nodes_r dict\n",
    "    for reaction in model.reactions:\n",
    "        nodes_r[reaction.id] = reaction.name\n",
    "    \n",
    "    # add nodes from met/rxn dicts with bipartite attribute\n",
    "    # add nodes with metabolite formula/enzyme name as attribute for id\n",
    "    G.add_nodes_from([(m_id, {'name': name}) for (m_id, name) in nodes_m.items()], bipartite=0)\n",
    "            # same as...\n",
    "            # for m_id, name in nodes_m.items():\n",
    "                # G.add_node(m_id, name = name, biartite = 0)\n",
    "    \n",
    "    G.add_nodes_from([(r_id, {'name': name}) for (r_id, name) in nodes_r.items()], bipartite=1)\n",
    "    \n",
    "    edges = []\n",
    "    for reaction in model.reactions:\n",
    "        # get products and reactants\n",
    "        products  = reaction.products\n",
    "        reactants = reaction.reactants\n",
    "        enzyme = reaction.name\n",
    "        rid = reaction.id\n",
    "        \n",
    "        for p in products:\n",
    "            edges.append((rid, p.id))\n",
    "            if reaction.reversibility:\n",
    "                edges.append((p.id, rid))\n",
    "                \n",
    "        for r in reactants:\n",
    "            edges.append((r.id, rid))\n",
    "            if reaction.reversibility:\n",
    "                edges.append((rid, r.id))\n",
    "            \n",
    "        \n",
    "    G.add_edges_from(edges)\n",
    "    return G\n"
   ]
  },
  {
   "cell_type": "code",
   "execution_count": 8,
   "id": "1790f860",
   "metadata": {},
   "outputs": [],
   "source": [
    "# create list of metabolic networks, one for each genome\n",
    "networks = {}\n",
    "models = {}\n",
    "sbml_dir = 'sbml_files'\n",
    "for sbml_file in os.listdir(sbml_dir):\n",
    "    # print(sbml_file)\n",
    "    \n",
    "    # ignore JCVI for now...\n",
    "    if sbml_file != 'JCVI.sbml':\n",
    "        model = read_sbml_model(os.path.join(sbml_dir, sbml_file))\n",
    "        models[sbml_file] = model\n",
    "        networks[sbml_file] = makeNetworkFromSBML(model)"
   ]
  },
  {
   "cell_type": "code",
   "execution_count": 42,
   "id": "d5bb826b",
   "metadata": {},
   "outputs": [],
   "source": [
    "enzymes = set()\n",
    "\n",
    "for model in models.values():\n",
    "    enzymes.update(set(r.id for r in model.reactions))"
   ]
  },
  {
   "cell_type": "code",
   "execution_count": 43,
   "id": "52b15c65",
   "metadata": {},
   "outputs": [],
   "source": [
    "metabolites = set()\n",
    "\n",
    "for model in models.values():\n",
    "    metabolites.update(set(m.id for m in model.metabolites))"
   ]
  },
  {
   "cell_type": "code",
   "execution_count": 44,
   "id": "4ff3a418",
   "metadata": {},
   "outputs": [],
   "source": [
    "unique_reactions = []\n",
    "\n",
    "for e in enzymes:\n",
    "    update = 0\n",
    "    for f,n in networks.items(): \n",
    "        if e in n.nodes:\n",
    "            update += 1\n",
    "    \n",
    "    if update < len(networks.items()):\n",
    "        # print(\"not all species contain: \", e )\n",
    "        unique_reactions.append(e)\n"
   ]
  },
  {
   "cell_type": "code",
   "execution_count": 45,
   "id": "5457a38d",
   "metadata": {},
   "outputs": [
    {
     "name": "stdout",
     "output_type": "stream",
     "text": [
      "not all species contain:  cpd00572_e\n",
      "not all species contain:  cpd00312_c\n"
     ]
    }
   ],
   "source": [
    "unique_metabolites = []\n",
    "\n",
    "for m in metabolites:\n",
    "    update = 0\n",
    "    for f,n in networks.items(): \n",
    "        if m in n.nodes:\n",
    "            update += 1\n",
    "    \n",
    "    if update < len(networks.items()):\n",
    "        # print(\"not all species contain: \", m )\n",
    "        unique_metabolites.append(e)"
   ]
  },
  {
   "cell_type": "code",
   "execution_count": null,
   "id": "c2653507",
   "metadata": {},
   "outputs": [],
   "source": []
  },
  {
   "cell_type": "code",
   "execution_count": null,
   "id": "187947ae",
   "metadata": {},
   "outputs": [],
   "source": []
  },
  {
   "cell_type": "code",
   "execution_count": null,
   "id": "e1bd8fe7",
   "metadata": {},
   "outputs": [],
   "source": []
  },
  {
   "cell_type": "markdown",
   "id": "800c72bb",
   "metadata": {},
   "source": [
    "### Create JCVI model "
   ]
  },
  {
   "cell_type": "code",
   "execution_count": 50,
   "id": "4e3fb949",
   "metadata": {},
   "outputs": [],
   "source": [
    "JCVI_model = read_sbml_model('JCVI.sbml')"
   ]
  },
  {
   "cell_type": "code",
   "execution_count": 51,
   "id": "fd3a4771",
   "metadata": {},
   "outputs": [],
   "source": [
    "G = makeNetworkFromSBML(JCVI_model)"
   ]
  },
  {
   "cell_type": "code",
   "execution_count": 54,
   "id": "6d7eff9e",
   "metadata": {},
   "outputs": [
    {
     "name": "stdout",
     "output_type": "stream",
     "text": [
      "1057\n"
     ]
    }
   ],
   "source": [
    "degree_list = sorted([d for n, d in G.degree()], reverse = True)\n",
    "# print(degree_list)\n",
    "# print(len(degree_list))\n",
    "\n",
    "print(len(G.nodes()))"
   ]
  },
  {
   "cell_type": "code",
   "execution_count": 58,
   "id": "e88d4465",
   "metadata": {},
   "outputs": [
    {
     "data": {
      "text/plain": [
       "567"
      ]
     },
     "execution_count": 58,
     "metadata": {},
     "output_type": "execute_result"
    }
   ],
   "source": [
    "len(JCVI_model.metabolites)\n"
   ]
  },
  {
   "cell_type": "code",
   "execution_count": 53,
   "id": "eefd8392",
   "metadata": {},
   "outputs": [
    {
     "name": "stdout",
     "output_type": "stream",
     "text": [
      "1 : JCVI doesn't contain the enzyme:  rxn09536_c\n",
      "2 : JCVI doesn't contain the enzyme:  rxn20057_c\n",
      "3 : JCVI doesn't contain the enzyme:  rxn12863_c\n",
      "4 : JCVI doesn't contain the enzyme:  rxn08922_c\n",
      "5 : JCVI doesn't contain the enzyme:  rxn05573_c\n",
      "6 : JCVI doesn't contain the enzyme:  rxn29990_c\n",
      "7 : JCVI doesn't contain the enzyme:  rxn10770_c\n",
      "8 : JCVI doesn't contain the enzyme:  rxn05169_c\n",
      "9 : JCVI doesn't contain the enzyme:  rxn45359_c\n",
      "10 : JCVI doesn't contain the enzyme:  rxn05241_c\n",
      "11 : JCVI doesn't contain the enzyme:  rxn08241_c\n",
      "12 : JCVI doesn't contain the enzyme:  rxn47850_c\n",
      "13 : JCVI doesn't contain the enzyme:  rxn16009_c\n",
      "14 : JCVI doesn't contain the enzyme:  rxn34108_c\n",
      "15 : JCVI doesn't contain the enzyme:  rxn23650_c\n",
      "16 : JCVI doesn't contain the enzyme:  rxn48239_c\n",
      "17 : JCVI doesn't contain the enzyme:  rxn00124_c\n",
      "18 : JCVI doesn't contain the enzyme:  rxn02835_c\n",
      "19 : JCVI doesn't contain the enzyme:  rxn25073_c\n",
      "20 : JCVI doesn't contain the enzyme:  rxn02473_c\n",
      "21 : JCVI doesn't contain the enzyme:  rxn13752_c\n",
      "22 : JCVI doesn't contain the enzyme:  rxn05294_c\n",
      "23 : JCVI doesn't contain the enzyme:  rxn16006_c\n",
      "24 : JCVI doesn't contain the enzyme:  rxn44874_c\n",
      "25 : JCVI doesn't contain the enzyme:  rxn27945_c\n",
      "26 : JCVI doesn't contain the enzyme:  rxn08231_c\n",
      "27 : JCVI doesn't contain the enzyme:  rxn10427_c\n",
      "28 : JCVI doesn't contain the enzyme:  rxn40718_c\n",
      "29 : JCVI doesn't contain the enzyme:  rxn19870_c\n",
      "30 : JCVI doesn't contain the enzyme:  rxn00940_c\n",
      "31 : JCVI doesn't contain the enzyme:  rxn31584_c\n",
      "32 : JCVI doesn't contain the enzyme:  rxn45871_c\n",
      "33 : JCVI doesn't contain the enzyme:  rxn11347_c\n",
      "34 : JCVI doesn't contain the enzyme:  rxn28460_c\n",
      "35 : JCVI doesn't contain the enzyme:  rxn16003_c\n",
      "36 : JCVI doesn't contain the enzyme:  rxn28243_c\n",
      "37 : JCVI doesn't contain the enzyme:  rxn42899_c\n",
      "38 : JCVI doesn't contain the enzyme:  rxn25397_c\n",
      "39 : JCVI doesn't contain the enzyme:  rxn11305_c\n",
      "40 : JCVI doesn't contain the enzyme:  rxn29991_c\n",
      "41 : JCVI doesn't contain the enzyme:  rxn44609_c\n",
      "42 : JCVI doesn't contain the enzyme:  rxn08160_c\n",
      "43 : JCVI doesn't contain the enzyme:  rxn03135_c\n",
      "44 : JCVI doesn't contain the enzyme:  rxn10202_c\n",
      "45 : JCVI doesn't contain the enzyme:  rxn09467_c\n",
      "46 : JCVI doesn't contain the enzyme:  rxn05166_c\n",
      "47 : JCVI doesn't contain the enzyme:  EX_cpd10516_e\n",
      "48 : JCVI doesn't contain the enzyme:  rxn12668_c\n",
      "49 : JCVI doesn't contain the enzyme:  rxn00078_c\n",
      "50 : JCVI doesn't contain the enzyme:  rxn19217_c\n",
      "51 : JCVI doesn't contain the enzyme:  rxn10203_c\n",
      "52 : JCVI doesn't contain the enzyme:  rxn12669_c\n",
      "53 : JCVI doesn't contain the enzyme:  rxn11296_c\n",
      "54 : JCVI doesn't contain the enzyme:  rxn05147_c\n",
      "55 : JCVI doesn't contain the enzyme:  rxn10211_c\n",
      "56 : JCVI doesn't contain the enzyme:  rxn05217_c\n",
      "57 : JCVI doesn't contain the enzyme:  rxn00395_c\n",
      "58 : JCVI doesn't contain the enzyme:  rxn09469_c\n",
      "59 : JCVI doesn't contain the enzyme:  rxn00392_c\n",
      "60 : JCVI doesn't contain the enzyme:  rxn11327_c\n",
      "61 : JCVI doesn't contain the enzyme:  rxn06093_c\n",
      "62 : JCVI doesn't contain the enzyme:  rxn33907_c\n",
      "63 : JCVI doesn't contain the enzyme:  rxn20627_c\n",
      "64 : JCVI doesn't contain the enzyme:  rxn04343_c\n",
      "65 : JCVI doesn't contain the enzyme:  rxn15369_c\n",
      "66 : JCVI doesn't contain the enzyme:  rxn46340_c\n",
      "67 : JCVI doesn't contain the enzyme:  rxn03028_c\n",
      "68 : JCVI doesn't contain the enzyme:  rxn21417_c\n",
      "69 : JCVI doesn't contain the enzyme:  rxn05272_c\n",
      "70 : JCVI doesn't contain the enzyme:  EX_cpd00226_e\n",
      "71 : JCVI doesn't contain the enzyme:  rxn05221_c\n",
      "72 : JCVI doesn't contain the enzyme:  rxn05747_c\n",
      "73 : JCVI doesn't contain the enzyme:  rxn01577_c\n",
      "74 : JCVI doesn't contain the enzyme:  rxn13231_c\n",
      "75 : JCVI doesn't contain the enzyme:  rxn04467_c\n",
      "76 : JCVI doesn't contain the enzyme:  rxn05149_c\n",
      "77 : JCVI doesn't contain the enzyme:  rxn00305_c\n",
      "78 : JCVI doesn't contain the enzyme:  rxn05168_c\n",
      "79 : JCVI doesn't contain the enzyme:  rxn08200_c\n",
      "80 : JCVI doesn't contain the enzyme:  rxn05222_c\n",
      "81 : JCVI doesn't contain the enzyme:  rxn09438_c\n",
      "82 : JCVI doesn't contain the enzyme:  rxn42091_c\n",
      "83 : JCVI doesn't contain the enzyme:  rxn12977_c\n",
      "84 : JCVI doesn't contain the enzyme:  rxn16019_c\n",
      "85 : JCVI doesn't contain the enzyme:  EX_cpd00087_e\n",
      "86 : JCVI doesn't contain the enzyme:  rxn46596_c\n",
      "87 : JCVI doesn't contain the enzyme:  rxn10577_c\n",
      "88 : JCVI doesn't contain the enzyme:  rxn38908_c\n",
      "89 : JCVI doesn't contain the enzyme:  rxn05220_c\n",
      "90 : JCVI doesn't contain the enzyme:  rxn08169_c\n",
      "91 : JCVI doesn't contain the enzyme:  rxn15626_c\n",
      "92 : JCVI doesn't contain the enzyme:  rxn06139_c\n",
      "93 : JCVI doesn't contain the enzyme:  rxn01415_c\n",
      "94 : JCVI doesn't contain the enzyme:  rxn16505_c\n",
      "95 : JCVI doesn't contain the enzyme:  rxn46468_c\n",
      "96 : JCVI doesn't contain the enzyme:  rxn11197_c\n",
      "97 : JCVI doesn't contain the enzyme:  rxn06646_c\n",
      "98 : JCVI doesn't contain the enzyme:  EX_cpd00123_e\n",
      "99 : JCVI doesn't contain the enzyme:  rxn00904_c\n",
      "100 : JCVI doesn't contain the enzyme:  rxn39847_c\n",
      "101 : JCVI doesn't contain the enzyme:  rxn41180_c\n",
      "102 : JCVI doesn't contain the enzyme:  rxn09548_c\n",
      "103 : JCVI doesn't contain the enzyme:  rxn11317_c\n",
      "104 : JCVI doesn't contain the enzyme:  rxn39930_c\n",
      "105 : JCVI doesn't contain the enzyme:  rxn42761_c\n",
      "106 : JCVI doesn't contain the enzyme:  rxn13703_c\n",
      "107 : JCVI doesn't contain the enzyme:  rxn43505_c\n",
      "108 : JCVI doesn't contain the enzyme:  rxn09145_c\n",
      "109 : JCVI doesn't contain the enzyme:  rxn10213_c\n",
      "110 : JCVI doesn't contain the enzyme:  rxn00114_c\n",
      "111 : JCVI doesn't contain the enzyme:  rxn13341_c\n",
      "112 : JCVI doesn't contain the enzyme:  rxn13724_c\n",
      "113 : JCVI doesn't contain the enzyme:  rxn07060_c\n",
      "114 : JCVI doesn't contain the enzyme:  rxn19181_c\n",
      "115 : JCVI doesn't contain the enzyme:  rxn38907_c\n",
      "116 : JCVI doesn't contain the enzyme:  rxn20769_c\n",
      "117 : JCVI doesn't contain the enzyme:  rxn14120_c\n",
      "118 : JCVI doesn't contain the enzyme:  rxn18910_c\n",
      "119 : JCVI doesn't contain the enzyme:  rxn06661_c\n",
      "120 : JCVI doesn't contain the enzyme:  rxn08186_c\n",
      "121 : JCVI doesn't contain the enzyme:  rxn18920_c\n",
      "122 : JCVI doesn't contain the enzyme:  rxn05284_c\n",
      "123 : JCVI doesn't contain the enzyme:  rxn31414_c\n",
      "124 : JCVI doesn't contain the enzyme:  rxn12907_c\n",
      "125 : JCVI doesn't contain the enzyme:  EX_cpd00528_e\n",
      "126 : JCVI doesn't contain the enzyme:  rxn09718_c\n",
      "127 : JCVI doesn't contain the enzyme:  rxn00183_c\n",
      "128 : JCVI doesn't contain the enzyme:  rxn07468_c\n",
      "129 : JCVI doesn't contain the enzyme:  rxn02570_c\n",
      "130 : JCVI doesn't contain the enzyme:  rxn00613_c\n",
      "131 : JCVI doesn't contain the enzyme:  rxn09810_c\n",
      "132 : JCVI doesn't contain the enzyme:  rxn11598_c\n",
      "133 : JCVI doesn't contain the enzyme:  rxn31388_c\n",
      "134 : JCVI doesn't contain the enzyme:  rxn09435_c\n",
      "135 : JCVI doesn't contain the enzyme:  rxn12667_c\n",
      "136 : JCVI doesn't contain the enzyme:  rxn00105_c\n",
      "137 : JCVI doesn't contain the enzyme:  rxn32642_c\n",
      "138 : JCVI doesn't contain the enzyme:  EX_cpd01414_e\n",
      "139 : JCVI doesn't contain the enzyme:  rxn05179_c\n",
      "140 : JCVI doesn't contain the enzyme:  rxn34162_c\n",
      "141 : JCVI doesn't contain the enzyme:  rxn30524_c\n",
      "142 : JCVI doesn't contain the enzyme:  rxn05242_c\n",
      "143 : JCVI doesn't contain the enzyme:  rxn44853_c\n",
      "144 : JCVI doesn't contain the enzyme:  rxn08094_c\n",
      "145 : JCVI doesn't contain the enzyme:  rxn21635_c\n",
      "146 : JCVI doesn't contain the enzyme:  rxn44805_c\n",
      "147 : JCVI doesn't contain the enzyme:  rxn06288_c\n",
      "148 : JCVI doesn't contain the enzyme:  rxn08617_c\n",
      "149 : JCVI doesn't contain the enzyme:  rxn41564_c\n",
      "150 : JCVI doesn't contain the enzyme:  rxn31085_c\n",
      "151 : JCVI doesn't contain the enzyme:  rxn06041_c\n",
      "152 : JCVI doesn't contain the enzyme:  rxn11316_c\n",
      "153 : JCVI doesn't contain the enzyme:  rxn09865_c\n",
      "154 : JCVI doesn't contain the enzyme:  rxn04901_c\n",
      "155 : JCVI doesn't contain the enzyme:  rxn31385_c\n",
      "156 : JCVI doesn't contain the enzyme:  EX_cpd11822_e\n",
      "157 : JCVI doesn't contain the enzyme:  rxn08224_c\n",
      "158 : JCVI doesn't contain the enzyme:  rxn05638_c\n",
      "159 : JCVI doesn't contain the enzyme:  rxn11093_c\n",
      "160 : JCVI doesn't contain the enzyme:  rxn05802_c\n",
      "161 : JCVI doesn't contain the enzyme:  rxn08947_c\n",
      "162 : JCVI doesn't contain the enzyme:  rxn08297_c\n",
      "163 : JCVI doesn't contain the enzyme:  EX_cpd00001_e\n",
      "164 : JCVI doesn't contain the enzyme:  EX_cpd00572_e\n",
      "165 : JCVI doesn't contain the enzyme:  EX_cpd11455_e\n",
      "166 : JCVI doesn't contain the enzyme:  rxn09632_c\n",
      "167 : JCVI doesn't contain the enzyme:  rxn09989_c\n",
      "168 : JCVI doesn't contain the enzyme:  rxn09307_c\n",
      "169 : JCVI doesn't contain the enzyme:  EX_cpd17028_e\n",
      "170 : JCVI doesn't contain the enzyme:  EX_cpd17026_e\n",
      "171 : JCVI doesn't contain the enzyme:  rxn09306_c\n",
      "172 : JCVI doesn't contain the enzyme:  rxn16020_c\n",
      "173 : JCVI doesn't contain the enzyme:  rxn34357_c\n",
      "174 : JCVI doesn't contain the enzyme:  rxn08737_c\n",
      "175 : JCVI doesn't contain the enzyme:  rxn13751_c\n",
      "176 : JCVI doesn't contain the enzyme:  rxn40040_c\n",
      "177 : JCVI doesn't contain the enzyme:  rxn06044_c\n",
      "178 : JCVI doesn't contain the enzyme:  rxn09339_c\n",
      "179 : JCVI doesn't contain the enzyme:  rxn45360_c\n",
      "180 : JCVI doesn't contain the enzyme:  rxn12868_c\n",
      "181 : JCVI doesn't contain the enzyme:  rxn08747_c\n",
      "182 : JCVI doesn't contain the enzyme:  rxn25075_c\n",
      "183 : JCVI doesn't contain the enzyme:  rxn34491_c\n",
      "184 : JCVI doesn't contain the enzyme:  rxn13307_c\n",
      "185 : JCVI doesn't contain the enzyme:  rxn16014_c\n",
      "186 : JCVI doesn't contain the enzyme:  rxn09464_c\n",
      "187 : JCVI doesn't contain the enzyme:  rxn05795_c\n",
      "188 : JCVI doesn't contain the enzyme:  rxn06060_c\n",
      "188\n"
     ]
    }
   ],
   "source": [
    "missing_enz = []\n",
    "\n",
    "j = 1\n",
    "for e in enzymes:\n",
    "    if e not in G.nodes():\n",
    "        missing_enz.append(e)\n",
    "        print(j, \": JCVI doesn't contain the enzyme: \", e)\n",
    "        j += 1\n",
    "\n",
    "        \n",
    "print(len(missing_enz))"
   ]
  },
  {
   "cell_type": "markdown",
   "id": "6b854e27",
   "metadata": {
    "scrolled": true
   },
   "source": [
    "### Weighted Projection on Enzymes\n",
    "Function to create a weighted projection of G onto its enzyme node sets. G reaction nodes must have the attribute $bipartite == 1$"
   ]
  },
  {
   "cell_type": "code",
   "execution_count": 49,
   "id": "d1fb7634",
   "metadata": {},
   "outputs": [
    {
     "name": "stdout",
     "output_type": "stream",
     "text": [
      "DiGraph with 306 nodes and 18222 edges\n",
      "DiGraph with 609 nodes and 2302 edges\n"
     ]
    }
   ],
   "source": [
    "mets, rxns = nx.bipartite.sets(G)\n",
    "\n",
    "# Projection of JCVI onto reaction nodes\n",
    "# edge weight is the ratio between actual shared neighbors and max possible shared neighbors\n",
    "# (if ratio == False) edge weight is just the number of shared neigbors\n",
    "G_rxns = nx.bipartite.weighted_projected_graph(G, rxns, ratio = False)\n",
    "\n",
    "print(G_rxns)\n",
    "print(G)"
   ]
  },
  {
   "cell_type": "code",
   "execution_count": 22,
   "id": "7582a8ae",
   "metadata": {},
   "outputs": [
    {
     "data": {
      "text/plain": [
       "(None, None)"
      ]
     },
     "execution_count": 22,
     "metadata": {},
     "output_type": "execute_result"
    }
   ],
   "source": []
  },
  {
   "cell_type": "code",
   "execution_count": 25,
   "id": "f1002c15",
   "metadata": {},
   "outputs": [
    {
     "name": "stdout",
     "output_type": "stream",
     "text": [
      "18222\n"
     ]
    }
   ],
   "source": [
    "edge_weights = []\n",
    "for i in G_rxns.edges():\n",
    "    edge_weights.append(G_rxns.edges[i]['weight'])\n",
    "\n",
    "sorted(edge_weights, reverse = True)\n",
    "print(len(edge_weights))"
   ]
  },
  {
   "cell_type": "code",
   "execution_count": 47,
   "id": "9b32555b",
   "metadata": {},
   "outputs": [],
   "source": [
    "# data = visualize(G_rxns)"
   ]
  },
  {
   "cell_type": "code",
   "execution_count": null,
   "id": "6b0f2eb4",
   "metadata": {},
   "outputs": [],
   "source": []
  },
  {
   "cell_type": "code",
   "execution_count": null,
   "id": "ee5fed68",
   "metadata": {},
   "outputs": [],
   "source": []
  },
  {
   "cell_type": "code",
   "execution_count": null,
   "id": "fec7ad5d",
   "metadata": {},
   "outputs": [],
   "source": []
  },
  {
   "cell_type": "code",
   "execution_count": null,
   "id": "4a30edfc",
   "metadata": {},
   "outputs": [],
   "source": []
  },
  {
   "cell_type": "code",
   "execution_count": null,
   "id": "0c6a1721",
   "metadata": {},
   "outputs": [],
   "source": []
  },
  {
   "cell_type": "code",
   "execution_count": null,
   "id": "0d511d6d",
   "metadata": {},
   "outputs": [],
   "source": []
  },
  {
   "cell_type": "code",
   "execution_count": null,
   "id": "222f21b0",
   "metadata": {},
   "outputs": [],
   "source": []
  },
  {
   "cell_type": "code",
   "execution_count": null,
   "id": "20b3a0d8",
   "metadata": {},
   "outputs": [],
   "source": []
  },
  {
   "cell_type": "code",
   "execution_count": null,
   "id": "247dc4cc",
   "metadata": {},
   "outputs": [],
   "source": []
  },
  {
   "cell_type": "code",
   "execution_count": null,
   "id": "24aee786",
   "metadata": {},
   "outputs": [],
   "source": []
  },
  {
   "cell_type": "code",
   "execution_count": null,
   "id": "5c80ace6",
   "metadata": {},
   "outputs": [],
   "source": []
  },
  {
   "cell_type": "code",
   "execution_count": null,
   "id": "36dafd23",
   "metadata": {},
   "outputs": [],
   "source": []
  },
  {
   "cell_type": "code",
   "execution_count": null,
   "id": "45d20e53",
   "metadata": {},
   "outputs": [],
   "source": []
  },
  {
   "cell_type": "code",
   "execution_count": null,
   "id": "5d700f17",
   "metadata": {},
   "outputs": [],
   "source": []
  },
  {
   "cell_type": "code",
   "execution_count": null,
   "id": "6803a7db",
   "metadata": {},
   "outputs": [],
   "source": []
  },
  {
   "cell_type": "code",
   "execution_count": null,
   "id": "ba17001f",
   "metadata": {},
   "outputs": [],
   "source": []
  },
  {
   "cell_type": "code",
   "execution_count": null,
   "id": "47a0eb71",
   "metadata": {},
   "outputs": [],
   "source": []
  },
  {
   "cell_type": "code",
   "execution_count": null,
   "id": "b83d65f9",
   "metadata": {},
   "outputs": [],
   "source": []
  }
 ],
 "metadata": {
  "kernelspec": {
   "display_name": "Python 3 (ipykernel)",
   "language": "python",
   "name": "python3"
  },
  "language_info": {
   "codemirror_mode": {
    "name": "ipython",
    "version": 3
   },
   "file_extension": ".py",
   "mimetype": "text/x-python",
   "name": "python",
   "nbconvert_exporter": "python",
   "pygments_lexer": "ipython3",
   "version": "3.9.2"
  }
 },
 "nbformat": 4,
 "nbformat_minor": 5
}
