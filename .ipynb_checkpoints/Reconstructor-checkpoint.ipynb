{
 "cells": [
  {
   "cell_type": "raw",
   "id": "5bf081af",
   "metadata": {},
   "source": []
  },
  {
   "cell_type": "code",
   "execution_count": 2,
   "id": "90355775",
   "metadata": {},
   "outputs": [],
   "source": [
    "import cobra\n",
    "from cobra.io import load_model\n",
    "from reconstructor import reconstruct"
   ]
  },
  {
   "cell_type": "code",
   "execution_count": 4,
   "id": "7407e799",
   "metadata": {},
   "outputs": [
    {
     "name": "stdout",
     "output_type": "stream",
     "text": [
      "Generating reconstruction....\n",
      "Reconstruction generating with the following command line:\n",
      "python -m reconstructor --input_file zalophi_gcf.faa --file_type 1 --media [] --org default --min_frac 0.01 --max_frac 0.5 --gram negative --out default --name default --cpu 2 --gapfill yes --test no\n",
      "None\n"
     ]
    }
   ],
   "source": [
    "input_files = ['buteonis_gcf.faa', 'enhydrae_gcf.faa', 'feriruminatoris_gcf.faa', \n",
    "               'cottewii_gcf.faa', 'marinum_gcf.faa', 'procyoni_gcf.faa', \n",
    "               'struthionis_gcf.faa','tullyi_gcf.faa', 'zalophi_gcf.faa']\n",
    "# input_files --> 0-8\n",
    "input_file = input_files[8]\n",
    "\n",
    "model = reconstruct(input_file, file_type=1, gram='negative', cpu=2)\n",
    "print(model)"
   ]
  },
  {
   "cell_type": "code",
   "execution_count": null,
   "id": "c33ea800",
   "metadata": {},
   "outputs": [],
   "source": []
  }
 ],
 "metadata": {
  "kernelspec": {
   "display_name": "Python 3 (ipykernel)",
   "language": "python",
   "name": "python3"
  },
  "language_info": {
   "codemirror_mode": {
    "name": "ipython",
    "version": 3
   },
   "file_extension": ".py",
   "mimetype": "text/x-python",
   "name": "python",
   "nbconvert_exporter": "python",
   "pygments_lexer": "ipython3",
   "version": "3.9.2"
  }
 },
 "nbformat": 4,
 "nbformat_minor": 5
}
