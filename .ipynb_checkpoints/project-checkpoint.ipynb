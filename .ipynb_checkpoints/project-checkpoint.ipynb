{
 "cells": [
  {
   "cell_type": "markdown",
   "id": "b3fdf4ea",
   "metadata": {},
   "source": [
    "# CSCI 3352 Project\n",
    "\n",
    "**Names:** Tom Stoughton, Dylan Smith\n",
    "\n",
    "Summary: ..."
   ]
  },
  {
   "cell_type": "code",
   "execution_count": 3,
   "id": "027fd00b",
   "metadata": {},
   "outputs": [],
   "source": [
    "# network/comp. bio. packages\n",
    "import networkx as nx\n",
    "import cobra\n",
    "from cobra.io import read_sbml_model\n",
    "import netwulf\n",
    "from netwulf import visualize\n",
    "from libsbml import *\n",
    "\n",
    "# helper packages\n",
    "import os\n",
    "import numpy as np\n",
    "import matplotlib.pyplot as plt\n",
    "\n",
    "%matplotlib inline"
   ]
  },
  {
   "cell_type": "code",
   "execution_count": 4,
   "id": "68865631",
   "metadata": {
    "scrolled": false
   },
   "outputs": [],
   "source": [
    "# set up networks here\n",
    "\n",
    "# can iterate over model.reactions and model.metabolites to construct bipartite(???) directed network\n",
    "def makeNetworkFromSBML(model):\n",
    "    G = nx.DiGraph()\n",
    "    nodes = {}\n",
    "#     reactants = []\n",
    "#     products  = []\n",
    "    for metabolite in model.metabolites:\n",
    "        nodes[metabolite.id] = metabolite.formula\n",
    "    \n",
    "    # add nodes with formula as attribute for id\n",
    "    G.add_nodes_from([(m_id, {'formula': formula}) for (m_id, formula) in nodes.items()])\n",
    "    \n",
    "    edges = []\n",
    "    for reaction in model.reactions:\n",
    "        # get metabolites in this reaction\n",
    "        ms = reaction.metabolites\n",
    "        \n",
    "        # make dict of metabolite id and number in reaction\n",
    "        products  = reaction.products\n",
    "        reactants = reaction.reactants\n",
    "        \n",
    "        for r in reactants:\n",
    "            for p in products:\n",
    "                edges.append((r.id, p.id))\n",
    "                if reaction.reversibility:\n",
    "                    # add both (i, j) and (j, i) to edge list\n",
    "                    edges.append((p.id, r.id))\n",
    "    G.add_edges_from(edges)\n",
    "    return G\n",
    "\n",
    "model = read_sbml_model(\"protein.sbml\")\n",
    "\n",
    "MIN = makeNetworkFromSBML(model)\n",
    "netw, _ = visualize(MIN)"
   ]
  },
  {
   "cell_type": "code",
   "execution_count": 5,
   "id": "8ddb19f1",
   "metadata": {},
   "outputs": [
    {
     "name": "stdout",
     "output_type": "stream",
     "text": [
      "DiGraph with 477 nodes and 2967 edges\n"
     ]
    }
   ],
   "source": [
    "print(MIN)"
   ]
  },
  {
   "cell_type": "code",
   "execution_count": 6,
   "id": "0a8ee2cf",
   "metadata": {},
   "outputs": [
    {
     "name": "stdout",
     "output_type": "stream",
     "text": [
      "cpd01101_c\n"
     ]
    },
    {
     "data": {
      "text/plain": [
       "{<Metabolite cpd01101_c at 0x7c7a371613d0>: -1.0,\n",
       " <Metabolite cpd00002_c at 0x7c7a37161520>: -1.0,\n",
       " <Metabolite cpd00008_c at 0x7c7a371614c0>: 1.0,\n",
       " <Metabolite cpd00146_c at 0x7c7a37161310>: 1.0}"
      ]
     },
     "execution_count": 6,
     "metadata": {},
     "output_type": "execute_result"
    }
   ],
   "source": [
    "m = model.metabolites.query(\"cpd01101_c\", attribute=\"id\")[0]\n",
    "print(m)\n",
    "\n",
    "model.reactions[1].metabolites"
   ]
  },
  {
   "cell_type": "code",
   "execution_count": 40,
   "id": "094ce6f0",
   "metadata": {},
   "outputs": [
    {
     "data": {
      "text/plain": [
       "'Itp:D-Tagatose 6-Phosphate 1-Phosphotransferase'"
      ]
     },
     "execution_count": 40,
     "metadata": {},
     "output_type": "execute_result"
    }
   ],
   "source": [
    "model.reactions[4].name"
   ]
  },
  {
   "cell_type": "code",
   "execution_count": 41,
   "id": "30fe9b86",
   "metadata": {},
   "outputs": [
    {
     "data": {
      "text/plain": [
       "'rxn32571_c'"
      ]
     },
     "execution_count": 41,
     "metadata": {},
     "output_type": "execute_result"
    }
   ],
   "source": [
    "model.reactions[4].id"
   ]
  },
  {
   "cell_type": "code",
   "execution_count": null,
   "id": "4f3809d1",
   "metadata": {},
   "outputs": [],
   "source": []
  },
  {
   "cell_type": "code",
   "execution_count": 21,
   "id": "a5379e2a",
   "metadata": {},
   "outputs": [
    {
     "data": {
      "text/plain": [
       "[<Metabolite cpd00008_c at 0x7b32a616b4c0>,\n",
       " <Metabolite cpd00146_c at 0x7b32a616ba90>]"
      ]
     },
     "execution_count": 21,
     "metadata": {},
     "output_type": "execute_result"
    }
   ],
   "source": [
    "model.reactions[1].products"
   ]
  },
  {
   "cell_type": "code",
   "execution_count": 4,
   "id": "c37fdb9e",
   "metadata": {},
   "outputs": [],
   "source": [
    "# numerical optimization code"
   ]
  },
  {
   "cell_type": "code",
   "execution_count": null,
   "id": "7d57d666",
   "metadata": {},
   "outputs": [],
   "source": [
    "# clustering analysis"
   ]
  }
 ],
 "metadata": {
  "kernelspec": {
   "display_name": "Python 3 (ipykernel)",
   "language": "python",
   "name": "python3"
  },
  "language_info": {
   "codemirror_mode": {
    "name": "ipython",
    "version": 3
   },
   "file_extension": ".py",
   "mimetype": "text/x-python",
   "name": "python",
   "nbconvert_exporter": "python",
   "pygments_lexer": "ipython3",
   "version": "3.9.2"
  }
 },
 "nbformat": 4,
 "nbformat_minor": 5
}
