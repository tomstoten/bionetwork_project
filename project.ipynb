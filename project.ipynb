{
 "cells": [
  {
   "cell_type": "markdown",
   "id": "b3fdf4ea",
   "metadata": {},
   "source": [
    "# CSCI 3352 Project\n",
    "\n",
    "**Names:** Tom Stoughton, Dylan Smith\n",
    "\n",
    "Summary: ..."
   ]
  },
  {
   "cell_type": "code",
   "execution_count": 2,
   "id": "027fd00b",
   "metadata": {},
   "outputs": [],
   "source": [
    "import networkx as nx\n",
    "import cobra\n",
    "\n",
    "from cobra.io import read_sbml_model\n",
    "import numpy as np\n",
    "import matplotlib.pyplot as plt\n",
    "\n",
    "%matplotlib inline"
   ]
  },
  {
   "cell_type": "code",
   "execution_count": 45,
   "id": "68865631",
   "metadata": {},
   "outputs": [
    {
     "name": "stdout",
     "output_type": "stream",
     "text": [
      "Graph with 477 nodes and 0 edges\n"
     ]
    }
   ],
   "source": [
    "# set up networks here\n",
    "\n",
    "# can iterate over model.reactions and model.metabolites to construct bipartite(???) network\n",
    "def makeNetworkFromSBML(model):\n",
    "    G = nx.Graph()\n",
    "    nodes = {}\n",
    "#     reactants = []\n",
    "#     products  = []\n",
    "    for metabolite in model.metabolites:\n",
    "        #print(metabolite)\n",
    "        nodes[metabolite.id] = metabolite.formula\n",
    "#         bipartite = \n",
    "    # add nodes with formula as attribute for id\n",
    "    G.add_nodes_from([(m_id, {'formula': formula}) for (m_id, formula) in nodes.items()])\n",
    "    \n",
    "    edges = []\n",
    "    for reaction in model.reactions:\n",
    "        # get edges\n",
    "        pass\n",
    "    \n",
    "    return G\n",
    "\n",
    "model = read_sbml_model(\"protein.sbml\")\n",
    "\n",
    "MIN = makeNetworkFromSBML(model)\n",
    "print(MIN)"
   ]
  },
  {
   "cell_type": "code",
   "execution_count": 42,
   "id": "0a8ee2cf",
   "metadata": {},
   "outputs": [
    {
     "name": "stdout",
     "output_type": "stream",
     "text": [
      "cpd01101_c\n"
     ]
    },
    {
     "data": {
      "text/plain": [
       "{<Metabolite cpd01101_c at 0x7becec0b0430>: -1.0,\n",
       " <Metabolite cpd00002_c at 0x7becec0b0820>: -1.0,\n",
       " <Metabolite cpd00008_c at 0x7becec0b01f0>: 1.0,\n",
       " <Metabolite cpd00146_c at 0x7becec0b03a0>: 1.0}"
      ]
     },
     "execution_count": 42,
     "metadata": {},
     "output_type": "execute_result"
    }
   ],
   "source": [
    "m = model.metabolites.query(\"cpd01101_c\", attribute=\"id\")[0]\n",
    "print(m)\n",
    "\n",
    "model.reactions[1].metabolites"
   ]
  },
  {
   "cell_type": "code",
   "execution_count": 40,
   "id": "094ce6f0",
   "metadata": {},
   "outputs": [
    {
     "data": {
      "text/html": [
       "\n",
       "        <table>\n",
       "            <tr>\n",
       "                <td><strong>Reaction identifier</strong></td><td>EX_cpd00009_e</td>\n",
       "            </tr><tr>\n",
       "                <td><strong>Name</strong></td><td>Phosphate exchange</td>\n",
       "            </tr><tr>\n",
       "                <td><strong>Memory address</strong></td>\n",
       "                <td>0x07beced444d60</td>\n",
       "            </tr><tr>\n",
       "                <td><strong>Stoichiometry</strong></td>\n",
       "                <td>\n",
       "                    <p style='text-align:right'>cpd00009_e <=></p>\n",
       "                    <p style='text-align:right'>Phosphate <=></p>\n",
       "                </td>\n",
       "            </tr><tr>\n",
       "                <td><strong>GPR</strong></td><td></td>\n",
       "            </tr><tr>\n",
       "                <td><strong>Lower bound</strong></td><td>-1000.0</td>\n",
       "            </tr><tr>\n",
       "                <td><strong>Upper bound</strong></td><td>1000.0</td>\n",
       "            </tr>\n",
       "        </table>\n",
       "        "
      ],
      "text/plain": [
       "<Reaction EX_cpd00009_e at 0x7beced444d60>"
      ]
     },
     "execution_count": 40,
     "metadata": {},
     "output_type": "execute_result"
    }
   ],
   "source": [
    "model.reactions[-1]"
   ]
  },
  {
   "cell_type": "code",
   "execution_count": null,
   "id": "a5379e2a",
   "metadata": {},
   "outputs": [],
   "source": []
  },
  {
   "cell_type": "code",
   "execution_count": 4,
   "id": "c37fdb9e",
   "metadata": {},
   "outputs": [],
   "source": [
    "# numerical optimization code"
   ]
  },
  {
   "cell_type": "code",
   "execution_count": null,
   "id": "7d57d666",
   "metadata": {},
   "outputs": [],
   "source": [
    "# clustering analysis"
   ]
  }
 ],
 "metadata": {
  "kernelspec": {
   "display_name": "Python 3 (ipykernel)",
   "language": "python",
   "name": "python3"
  },
  "language_info": {
   "codemirror_mode": {
    "name": "ipython",
    "version": 3
   },
   "file_extension": ".py",
   "mimetype": "text/x-python",
   "name": "python",
   "nbconvert_exporter": "python",
   "pygments_lexer": "ipython3",
   "version": "3.9.2"
  }
 },
 "nbformat": 4,
 "nbformat_minor": 5
}
