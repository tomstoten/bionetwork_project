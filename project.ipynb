{
 "cells": [
  {
   "cell_type": "markdown",
   "id": "b3fdf4ea",
   "metadata": {},
   "source": [
    "# CSCI 3352 Project\n",
    "\n",
    "**Names:** Tom Stoughton, Dylan Smith\n",
    "\n",
    "Summary: ..."
   ]
  },
  {
   "cell_type": "code",
   "execution_count": 2,
   "id": "027fd00b",
   "metadata": {},
   "outputs": [],
   "source": [
    "import networkx as nx\n",
    "import cobra\n",
    "import numpy as np\n",
    "import matplotlib.pyplot as plt\n",
    "\n",
    "%matplotlib inline"
   ]
  },
  {
   "cell_type": "code",
   "execution_count": 3,
   "id": "68865631",
   "metadata": {},
   "outputs": [],
   "source": [
    "# set up networks here"
   ]
  },
  {
   "cell_type": "code",
   "execution_count": null,
   "id": "094ce6f0",
   "metadata": {},
   "outputs": [],
   "source": []
  },
  {
   "cell_type": "code",
   "execution_count": 4,
   "id": "c37fdb9e",
   "metadata": {},
   "outputs": [],
   "source": [
    "# numerical optimization code"
   ]
  },
  {
   "cell_type": "code",
   "execution_count": null,
   "id": "7d57d666",
   "metadata": {},
   "outputs": [],
   "source": [
    "# clustering analysis"
   ]
  }
 ],
 "metadata": {
  "kernelspec": {
   "display_name": "Python 3 (ipykernel)",
   "language": "python",
   "name": "python3"
  },
  "language_info": {
   "codemirror_mode": {
    "name": "ipython",
    "version": 3
   },
   "file_extension": ".py",
   "mimetype": "text/x-python",
   "name": "python",
   "nbconvert_exporter": "python",
   "pygments_lexer": "ipython3",
   "version": "3.9.2"
  }
 },
 "nbformat": 4,
 "nbformat_minor": 5
}
