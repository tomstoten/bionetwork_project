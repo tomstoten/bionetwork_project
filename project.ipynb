{
 "cells": [
  {
   "cell_type": "markdown",
   "id": "b3fdf4ea",
   "metadata": {},
   "source": [
    "# CSCI 3352 Project\n",
    "\n",
    "**Names:** Tom Stoughton, Dylan Smith\n",
    "\n",
    "Summary: ..."
   ]
  },
  {
   "cell_type": "code",
   "execution_count": 12,
   "id": "027fd00b",
   "metadata": {},
   "outputs": [],
   "source": [
    "# network/comp. bio. packages\n",
    "import networkx as nx\n",
    "import cobra\n",
    "from cobra.io import read_sbml_model\n",
    "import netwulf\n",
    "from netwulf import visualize\n",
    "\n",
    "# helper packages\n",
    "import os\n",
    "import numpy as np\n",
    "import matplotlib.pyplot as plt\n",
    "\n",
    "%matplotlib inline"
   ]
  },
  {
   "cell_type": "markdown",
   "id": "a90866c6",
   "metadata": {},
   "source": [
    "The following function is used to generate a metabolic interaction network from the SBML model of different genomes in the Mycoplasma genus."
   ]
  },
  {
   "cell_type": "code",
   "execution_count": 13,
   "id": "68865631",
   "metadata": {
    "scrolled": false
   },
   "outputs": [],
   "source": [
    "# set up networks here\n",
    "\n",
    "# iterate over model.reactions and model.metabolites to construct bipartite directed network\n",
    "def makeNetworkFromSBML(model):\n",
    "    G = nx.DiGraph()\n",
    "    nodes_m = {}\n",
    "    nodes_r = {}\n",
    "\n",
    "    for metabolite in model.metabolites:\n",
    "        nodes_m[metabolite.id] = metabolite.formula\n",
    "        \n",
    "    for reaction in model.reactions:\n",
    "        nodes_r[reaction.id] = reaction.name\n",
    "    \n",
    "    # add nodes with metabolite formula/enzyme name as attribute for id\n",
    "    G.add_nodes_from([(m_id, {'formula': formula}) for (m_id, formula) in nodes_m.items()], bipartite=0)\n",
    "    G.add_nodes_from([(r_id, {'name': name}) for (r_id, name) in nodes_r.items()], bipartite=1)\n",
    "    \n",
    "    edges = []\n",
    "    for reaction in model.reactions:\n",
    "        # get products and reactants\n",
    "        products  = reaction.products\n",
    "        reactants = reaction.reactants\n",
    "        enzyme = reaction.name\n",
    "        rid = reaction.id\n",
    "        \n",
    "        for p in products:\n",
    "            edges.append((rid, p.id))\n",
    "            if reaction.reversibility:\n",
    "                edges.append((p.id, rid))\n",
    "                \n",
    "        for r in reactants:\n",
    "            edges.append((r.id, rid))\n",
    "            if reaction.reversibility:\n",
    "                edges.append((rid, r.id))\n",
    "            \n",
    "        \n",
    "    G.add_edges_from(edges)\n",
    "    return G\n"
   ]
  },
  {
   "cell_type": "code",
   "execution_count": 28,
   "id": "4702a103",
   "metadata": {
    "scrolled": true
   },
   "outputs": [],
   "source": [
    "# create list of metabolic networks, one for each genome\n",
    "networks = {}\n",
    "sbml_dir = 'sbml_files'\n",
    "for sbml_file in os.listdir(sbml_dir):\n",
    "    # print(sbml_file)\n",
    "    model = read_sbml_model(os.path.join(sbml_dir, sbml_file))\n",
    "    networks[sbml_file] = makeNetworkFromSBML(model)"
   ]
  },
  {
   "cell_type": "code",
   "execution_count": 29,
   "id": "3f17fd09",
   "metadata": {},
   "outputs": [
    {
     "name": "stdout",
     "output_type": "stream",
     "text": [
      "tullyi_gcf.sbml : DiGraph with 608 nodes and 2286 edges\n",
      "JCVI.sbml : DiGraph with 609 nodes and 2302 edges\n",
      "procyoni_gcf.sbml : DiGraph with 608 nodes and 2281 edges\n",
      "buteonis_gcf.sbml : DiGraph with 608 nodes and 2294 edges\n",
      "marinum_gcf.sbml : DiGraph with 608 nodes and 2291 edges\n",
      "enhydrae_gcf.sbml : DiGraph with 609 nodes and 2313 edges\n",
      "haemobos.sbml : DiGraph with 611 nodes and 2312 edges\n",
      "struthionis_gcf.sbml : DiGraph with 609 nodes and 2304 edges\n",
      "zalophi_gcf.sbml : DiGraph with 611 nodes and 2306 edges\n",
      "cottewii_gcf.sbml : DiGraph with 611 nodes and 2308 edges\n",
      "feriruminatoris_gcf.sbml : DiGraph with 608 nodes and 2309 edges\n"
     ]
    }
   ],
   "source": [
    "for f, n in networks.items():\n",
    "    print(f,':', n)"
   ]
  },
  {
   "cell_type": "code",
   "execution_count": null,
   "id": "bea35c4c",
   "metadata": {
    "scrolled": false
   },
   "outputs": [],
   "source": []
  },
  {
   "cell_type": "code",
   "execution_count": null,
   "id": "558bd56a",
   "metadata": {},
   "outputs": [],
   "source": []
  },
  {
   "cell_type": "code",
   "execution_count": null,
   "id": "0a8ee2cf",
   "metadata": {},
   "outputs": [],
   "source": []
  },
  {
   "cell_type": "code",
   "execution_count": null,
   "id": "7d57d666",
   "metadata": {},
   "outputs": [],
   "source": [
    "# clustering analysis"
   ]
  }
 ],
 "metadata": {
  "kernelspec": {
   "display_name": "Python 3 (ipykernel)",
   "language": "python",
   "name": "python3"
  },
  "language_info": {
   "codemirror_mode": {
    "name": "ipython",
    "version": 3
   },
   "file_extension": ".py",
   "mimetype": "text/x-python",
   "name": "python",
   "nbconvert_exporter": "python",
   "pygments_lexer": "ipython3",
   "version": "3.9.2"
  }
 },
 "nbformat": 4,
 "nbformat_minor": 5
}
