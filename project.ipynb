{
 "cells": [
  {
   "cell_type": "markdown",
   "id": "b3fdf4ea",
   "metadata": {},
   "source": [
    "# CSCI 3352 Project\n",
    "\n",
    "**Names:** Tom Stoughton, Dylan Smith\n",
    "\n",
    "Summary: ..."
   ]
  },
  {
   "cell_type": "code",
   "execution_count": 8,
   "id": "027fd00b",
   "metadata": {},
   "outputs": [],
   "source": [
    "import networkx as nx\n",
    "import cobra\n",
    "\n",
    "from cobra.io import read_sbml_model\n",
    "import numpy as np\n",
    "import matplotlib.pyplot as plt\n",
    "\n",
    "%matplotlib inline"
   ]
  },
  {
   "cell_type": "code",
   "execution_count": 34,
   "id": "68865631",
   "metadata": {},
   "outputs": [
    {
     "data": {
      "text/html": [
       "\n",
       "        <table>\n",
       "            <tr>\n",
       "                <td><strong>Reaction identifier</strong></td><td>rxn47399_c</td>\n",
       "            </tr><tr>\n",
       "                <td><strong>Name</strong></td><td></td>\n",
       "            </tr><tr>\n",
       "                <td><strong>Memory address</strong></td>\n",
       "                <td>0x07e53eb61fcd0</td>\n",
       "            </tr><tr>\n",
       "                <td><strong>Stoichiometry</strong></td>\n",
       "                <td>\n",
       "                    <p style='text-align:right'>cpd00053_c + cpd00216_c <-- cpd00023_c</p>\n",
       "                    <p style='text-align:right'>L-Glutamine + Chorismate <-- L-Glutamate</p>\n",
       "                </td>\n",
       "            </tr><tr>\n",
       "                <td><strong>GPR</strong></td><td></td>\n",
       "            </tr><tr>\n",
       "                <td><strong>Lower bound</strong></td><td>-1000.0</td>\n",
       "            </tr><tr>\n",
       "                <td><strong>Upper bound</strong></td><td>0.0</td>\n",
       "            </tr>\n",
       "        </table>\n",
       "        "
      ],
      "text/plain": [
       "<Reaction rxn47399_c at 0x7e53eb61fcd0>"
      ]
     },
     "execution_count": 34,
     "metadata": {},
     "output_type": "execute_result"
    }
   ],
   "source": [
    "# set up networks here\n",
    "\n",
    "model = read_sbml_model(\"protein.sbml\")\n",
    "list(model.metabolites[2].reactions)[0]\n",
    "#print(model.reactions)\n",
    "\n",
    "# can iterate over model.reactions and model.metabolites to construct bipartite network\n",
    "# not sure of the exact method but the tools are all here\n",
    "# maybe some matching on model.metabolites[i].reactions[j].id to see which reactions each metabolite is in"
   ]
  },
  {
   "cell_type": "code",
   "execution_count": null,
   "id": "094ce6f0",
   "metadata": {},
   "outputs": [],
   "source": []
  },
  {
   "cell_type": "code",
   "execution_count": null,
   "id": "a5379e2a",
   "metadata": {},
   "outputs": [],
   "source": []
  },
  {
   "cell_type": "code",
   "execution_count": 4,
   "id": "c37fdb9e",
   "metadata": {},
   "outputs": [],
   "source": [
    "# numerical optimization code"
   ]
  },
  {
   "cell_type": "code",
   "execution_count": null,
   "id": "7d57d666",
   "metadata": {},
   "outputs": [],
   "source": [
    "# clustering analysis"
   ]
  }
 ],
 "metadata": {
  "kernelspec": {
   "display_name": "Python 3 (ipykernel)",
   "language": "python",
   "name": "python3"
  },
  "language_info": {
   "codemirror_mode": {
    "name": "ipython",
    "version": 3
   },
   "file_extension": ".py",
   "mimetype": "text/x-python",
   "name": "python",
   "nbconvert_exporter": "python",
   "pygments_lexer": "ipython3",
   "version": "3.9.2"
  }
 },
 "nbformat": 4,
 "nbformat_minor": 5
}
